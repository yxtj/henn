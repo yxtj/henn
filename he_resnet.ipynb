{
 "cells": [
  {
   "cell_type": "code",
   "execution_count": 4,
   "id": "2915dcb8",
   "metadata": {},
   "outputs": [],
   "source": [
    "import numpy as np\n",
    "import time\n",
    "\n",
    "# HE library\n",
    "import pyconcrete as pcc\n",
    "import hennlayer\n",
    "import heresnet\n",
    "\n",
    "# pytorch related\n",
    "import torch\n",
    "import torchvision\n",
    "from util_ml import train, test"
   ]
  },
  {
   "cell_type": "code",
   "execution_count": 3,
   "id": "22c4687b",
   "metadata": {},
   "outputs": [
    {
     "name": "stderr",
     "output_type": "stream",
     "text": [
      "Downloading: \"https://download.pytorch.org/models/resnet18-f37072fd.pth\" to /home/tzhou/.cache/torch/hub/checkpoints/resnet18-f37072fd.pth\n",
      "100.0%\n"
     ]
    }
   ],
   "source": [
    "res18=torchvision.models.resnet18(True)"
   ]
  },
  {
   "cell_type": "code",
   "execution_count": 5,
   "id": "fe80cee1",
   "metadata": {},
   "outputs": [],
   "source": [
    "heres18=heresnet.resnet18()"
   ]
  },
  {
   "cell_type": "code",
   "execution_count": 8,
   "id": "328caaad",
   "metadata": {},
   "outputs": [
    {
     "name": "stdout",
     "output_type": "stream",
     "text": [
      "conv1\n",
      "bn1\n",
      "relu\n",
      "layer1\n",
      "0\n",
      "conv1\n",
      "bn1\n",
      "relu\n",
      "conv2\n",
      "bn2\n",
      "1\n",
      "conv1\n",
      "bn1\n",
      "relu\n",
      "conv2\n",
      "bn2\n",
      "layer2\n",
      "0\n",
      "conv1\n",
      "bn1\n",
      "relu\n",
      "conv2\n",
      "bn2\n",
      "downsample\n",
      "0\n",
      "1\n",
      "1\n",
      "conv1\n",
      "bn1\n",
      "relu\n",
      "conv2\n",
      "bn2\n",
      "layer3\n",
      "0\n",
      "conv1\n",
      "bn1\n",
      "relu\n",
      "conv2\n",
      "bn2\n",
      "downsample\n",
      "0\n",
      "1\n",
      "1\n",
      "conv1\n",
      "bn1\n",
      "relu\n",
      "conv2\n",
      "bn2\n",
      "layer4\n",
      "0\n",
      "conv1\n",
      "bn1\n",
      "relu\n",
      "conv2\n",
      "bn2\n",
      "downsample\n",
      "0\n",
      "1\n",
      "1\n",
      "conv1\n",
      "bn1\n",
      "relu\n",
      "conv2\n",
      "bn2\n",
      "avgpool\n",
      "fc\n"
     ]
    }
   ],
   "source": [
    "heresnet.bind(heres18, res18)"
   ]
  },
  {
   "cell_type": "code",
   "execution_count": 9,
   "id": "cc6e50c7",
   "metadata": {},
   "outputs": [],
   "source": [
    "img=np.random.random((3,244,244))"
   ]
  },
  {
   "cell_type": "code",
   "execution_count": 10,
   "id": "596ceaf5",
   "metadata": {},
   "outputs": [
    {
     "name": "stdout",
     "output_type": "stream",
     "text": [
      "ch 0\n",
      "ch 1\n",
      "ch 2\n",
      "ch 3\n",
      "ch 4\n",
      "ch 5\n",
      "ch 6\n",
      "ch 7\n",
      "ch 8\n",
      "ch 9\n",
      "ch 10\n",
      "ch 11\n",
      "ch 12\n",
      "ch 13\n",
      "ch 14\n",
      "ch 15\n",
      "ch 16\n",
      "ch 17\n",
      "ch 18\n",
      "ch 19\n",
      "ch 20\n",
      "ch 21\n",
      "ch 22\n",
      "ch 23\n",
      "ch 24\n",
      "ch 25\n",
      "ch 26\n",
      "ch 27\n",
      "ch 28\n",
      "ch 29\n",
      "ch 30\n",
      "ch 31\n",
      "ch 32\n",
      "ch 33\n",
      "ch 34\n",
      "ch 35\n",
      "ch 36\n",
      "ch 37\n",
      "ch 38\n",
      "ch 39\n",
      "ch 40\n",
      "ch 41\n",
      "ch 42\n",
      "ch 43\n",
      "ch 44\n",
      "ch 45\n",
      "ch 46\n",
      "ch 47\n",
      "ch 48\n",
      "ch 49\n",
      "ch 50\n",
      "ch 51\n",
      "ch 52\n",
      "ch 53\n",
      "ch 54\n",
      "ch 55\n",
      "ch 56\n",
      "ch 57\n",
      "ch 58\n",
      "ch 59\n",
      "ch 60\n",
      "ch 61\n",
      "ch 62\n",
      "ch 63\n"
     ]
    },
    {
     "ename": "AttributeError",
     "evalue": "'ResNet' object has no attribute 'maxpool'",
     "output_type": "error",
     "traceback": [
      "\u001b[0;31m---------------------------------------------------------------------------\u001b[0m",
      "\u001b[0;31mAttributeError\u001b[0m                            Traceback (most recent call last)",
      "Input \u001b[0;32mIn [10]\u001b[0m, in \u001b[0;36m<module>\u001b[0;34m\u001b[0m\n\u001b[1;32m      1\u001b[0m ot\u001b[38;5;241m=\u001b[39mres18(torch\u001b[38;5;241m.\u001b[39mtensor(img, dtype\u001b[38;5;241m=\u001b[39mtorch\u001b[38;5;241m.\u001b[39mfloat32)\u001b[38;5;241m.\u001b[39munsqueeze(\u001b[38;5;241m0\u001b[39m))[\u001b[38;5;241m0\u001b[39m]\u001b[38;5;241m.\u001b[39mdetach()\u001b[38;5;241m.\u001b[39mnumpy()\n\u001b[0;32m----> 2\u001b[0m oh\u001b[38;5;241m=\u001b[39m\u001b[43mheres18\u001b[49m\u001b[43m(\u001b[49m\u001b[43mimg\u001b[49m\u001b[43m)\u001b[49m\n\u001b[1;32m      3\u001b[0m d\u001b[38;5;241m=\u001b[39mot\u001b[38;5;241m-\u001b[39moh\n\u001b[1;32m      4\u001b[0m \u001b[38;5;28mprint\u001b[39m(d\u001b[38;5;241m.\u001b[39mmean())\n",
      "File \u001b[0;32m~/Code/henn/hennlayer.py:61\u001b[0m, in \u001b[0;36mENNLayer.__call__\u001b[0;34m(self, x)\u001b[0m\n\u001b[1;32m     60\u001b[0m \u001b[38;5;28;01mdef\u001b[39;00m \u001b[38;5;21m__call__\u001b[39m(\u001b[38;5;28mself\u001b[39m, x):\n\u001b[0;32m---> 61\u001b[0m     \u001b[38;5;28;01mreturn\u001b[39;00m \u001b[38;5;28;43mself\u001b[39;49m\u001b[38;5;241;43m.\u001b[39;49m\u001b[43mforward\u001b[49m\u001b[43m(\u001b[49m\u001b[43mx\u001b[49m\u001b[43m)\u001b[49m\n",
      "File \u001b[0;32m~/Code/henn/heresnet.py:157\u001b[0m, in \u001b[0;36mResNet.forward\u001b[0;34m(self, x)\u001b[0m\n\u001b[1;32m    155\u001b[0m x \u001b[38;5;241m=\u001b[39m \u001b[38;5;28mself\u001b[39m\u001b[38;5;241m.\u001b[39mbn1(x)\n\u001b[1;32m    156\u001b[0m x \u001b[38;5;241m=\u001b[39m \u001b[38;5;28mself\u001b[39m\u001b[38;5;241m.\u001b[39mrelu(x)\n\u001b[0;32m--> 157\u001b[0m x \u001b[38;5;241m=\u001b[39m \u001b[38;5;28;43mself\u001b[39;49m\u001b[38;5;241;43m.\u001b[39;49m\u001b[43mmaxpool\u001b[49m(x)\n\u001b[1;32m    159\u001b[0m x \u001b[38;5;241m=\u001b[39m \u001b[38;5;28mself\u001b[39m\u001b[38;5;241m.\u001b[39mlayer1(x)\n\u001b[1;32m    160\u001b[0m x \u001b[38;5;241m=\u001b[39m \u001b[38;5;28mself\u001b[39m\u001b[38;5;241m.\u001b[39mlayer2(x)\n",
      "\u001b[0;31mAttributeError\u001b[0m: 'ResNet' object has no attribute 'maxpool'"
     ]
    }
   ],
   "source": [
    "ot=res18(torch.tensor(img, dtype=torch.float32).unsqueeze(0))[0].detach().numpy()\n",
    "oh=heres18(img)\n",
    "d=ot-oh\n",
    "print(d.mean())"
   ]
  }
 ],
 "metadata": {
  "kernelspec": {
   "display_name": "Python 3 (ipykernel)",
   "language": "python",
   "name": "python3"
  },
  "language_info": {
   "codemirror_mode": {
    "name": "ipython",
    "version": 3
   },
   "file_extension": ".py",
   "mimetype": "text/x-python",
   "name": "python",
   "nbconvert_exporter": "python",
   "pygments_lexer": "ipython3",
   "version": "3.8.10"
  }
 },
 "nbformat": 4,
 "nbformat_minor": 5
}
