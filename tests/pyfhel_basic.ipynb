{
 "cells": [
  {
   "cell_type": "code",
   "execution_count": 1,
   "id": "509925e7",
   "metadata": {},
   "outputs": [],
   "source": [
    "import numpy as np\n",
    "from Pyfhel import Pyfhel\n",
    "import time"
   ]
  },
  {
   "cell_type": "markdown",
   "id": "556c9b88",
   "metadata": {},
   "source": [
    "# Interger"
   ]
  },
  {
   "cell_type": "code",
   "execution_count": 2,
   "id": "99303c9b",
   "metadata": {},
   "outputs": [
    {
     "name": "stdout",
     "output_type": "stream",
     "text": [
      "Context and key setup\n",
      "<bfv Pyfhel obj at 0x13f4dd173a0, [pk:Y, sk:Y, rtk:-, rlk:-, contx(n=16384, t=786433, sec=128, qi=[], scale=1.0, )]>\n"
     ]
    }
   ],
   "source": [
    "print(\"Context and key setup\")\n",
    "HE = Pyfhel()\n",
    "HE.contextGen(scheme='bfv', n=2**14, t_bits=20)\n",
    "HE.keyGen()\n",
    "print(HE)"
   ]
  },
  {
   "cell_type": "code",
   "execution_count": 3,
   "id": "e1985148",
   "metadata": {},
   "outputs": [
    {
     "name": "stdout",
     "output_type": "stream",
     "text": [
      "Integer Encryption, \n",
      "    int  [127] -> ctxt1  <class 'Pyfhel.PyCtxt.PyCtxt'>\n",
      "    int  [-2] -> ctxt2  <class 'Pyfhel.PyCtxt.PyCtxt'>\n"
     ]
    }
   ],
   "source": [
    "integer1 = np.array([127], dtype=np.int64)\n",
    "integer2 = np.array([-2], dtype=np.int64)\n",
    "ctxt1 = HE.encryptInt(integer1) # Encryption makes use of the public key\n",
    "ctxt2 = HE.encryptInt(integer2) # For integers, encryptInt function is used.\n",
    "print(\"Integer Encryption, \")\n",
    "print(\"    int \",integer1,'-> ctxt1 ', type(ctxt1))\n",
    "print(\"    int \",integer2,'-> ctxt2 ', type(ctxt2))"
   ]
  },
  {
   "cell_type": "code",
   "execution_count": 4,
   "id": "f3db60b9",
   "metadata": {},
   "outputs": [
    {
     "name": "stdout",
     "output_type": "stream",
     "text": [
      "<Pyfhel Ciphertext at 0x13f651599f0, scheme=bfv, size=2/2, noiseBudget=361>\n",
      "<Pyfhel Ciphertext at 0x13f4dd7f2c0, scheme=bfv, size=2/2, noiseBudget=361>\n"
     ]
    }
   ],
   "source": [
    "print(ctxt1)\n",
    "print(ctxt2)"
   ]
  },
  {
   "cell_type": "code",
   "execution_count": 6,
   "id": "7a7949d9",
   "metadata": {},
   "outputs": [
    {
     "name": "stdout",
     "output_type": "stream",
     "text": [
      "Operating with encrypted integers\n",
      "Sum: <Pyfhel Ciphertext at 0x13f6516c7c0, scheme=bfv, size=2/2, noiseBudget=360>\n",
      "Sub: <Pyfhel Ciphertext at 0x13f4dccb040, scheme=bfv, size=2/2, noiseBudget=360>\n",
      "Mult:<Pyfhel Ciphertext at 0x13f651aac70, scheme=bfv, size=3/3, noiseBudget=328>\n"
     ]
    }
   ],
   "source": [
    "ctxtSum = ctxt1 + ctxt2         # `ctxt1 += ctxt2` for inplace operation\n",
    "ctxtSub = ctxt1 - ctxt2         # `ctxt1 -= ctxt2` for inplace operation\n",
    "ctxtMul = ctxt1 * ctxt2         # `ctxt1 *= ctxt2` for inplace operation\n",
    "print(\"Operating with encrypted integers\")\n",
    "print(f\"Sum: {ctxtSum}\")\n",
    "print(f\"Sub: {ctxtSub}\")\n",
    "print(f\"Mult:{ctxtMul}\")"
   ]
  },
  {
   "cell_type": "code",
   "execution_count": 7,
   "id": "fe61e6b3",
   "metadata": {
    "scrolled": false
   },
   "outputs": [
    {
     "name": "stdout",
     "output_type": "stream",
     "text": [
      "Decrypting result:\n",
      "     addition:       decrypt(ctxt1 + ctxt2) =   [125   0   0 ...   0   0   0]\n",
      "     substraction:   decrypt(ctxt1 - ctxt2) =   [129   0   0 ...   0   0   0]\n",
      "     multiplication: decrypt(ctxt1 + ctxt2) =   [-254    0    0 ...    0    0    0]\n"
     ]
    }
   ],
   "source": [
    "resSum = HE.decryptInt(ctxtSum) # Decryption must use the corresponding function decryptInt.\n",
    "resSub = HE.decryptInt(ctxtSub)\n",
    "resMul = HE.decryptInt(ctxtMul)\n",
    "print(\"Decrypting result:\")\n",
    "print(\"     addition:       decrypt(ctxt1 + ctxt2) =  \", resSum)\n",
    "print(\"     substraction:   decrypt(ctxt1 - ctxt2) =  \", resSub)\n",
    "print(\"     multiplication: decrypt(ctxt1 + ctxt2) =  \", resMul)"
   ]
  },
  {
   "cell_type": "markdown",
   "id": "6cb4fa86",
   "metadata": {},
   "source": [
    "# Float numbers"
   ]
  },
  {
   "cell_type": "code",
   "execution_count": 10,
   "id": "4142b381",
   "metadata": {},
   "outputs": [
    {
     "name": "stdout",
     "output_type": "stream",
     "text": [
      "CKKS context generation\n",
      "\t<ckks Pyfhel obj at 0x215ff464df0, [pk:Y, sk:Y, rtk:Y, rlk:Y, contx(n=16384, t=0, sec=128, qi=[60, 30, 30, 30, 30, 30, 30, 30, 30, 60], scale=1073741824.0, )]>\n"
     ]
    }
   ],
   "source": [
    "n_mults = 8\n",
    "\n",
    "HE = Pyfhel(key_gen=True, context_params={\n",
    "    'scheme': 'CKKS',\n",
    "    'n': 2**14,         # For CKKS, n/2 values can be encoded in a single ciphertext.\n",
    "    'scale': 2**30,     # Each multiplication grows the final scale\n",
    "    'qi_sizes': [60]+ [30]*n_mults +[60] # Number of bits of each prime in the chain.\n",
    "                        # Intermediate prime sizes should be close to log2(scale).\n",
    "                        # One per multiplication! More/higher qi_sizes means bigger\n",
    "                        #  ciphertexts and slower ops.\n",
    "})\n",
    "HE.keyGen()             # Key Generation: generates a pair of public/secret keys\n",
    "HE.rotateKeyGen()\n",
    "HE.relinKeyGen()\n",
    "print(\"CKKS context generation\")\n",
    "print(f\"\\t{HE}\")"
   ]
  },
  {
   "cell_type": "code",
   "execution_count": 23,
   "id": "65a4f1b0",
   "metadata": {},
   "outputs": [
    {
     "name": "stdout",
     "output_type": "stream",
     "text": [
      "Fixed-point Encoding & Encryption, \n",
      "->\tarr_x  [0.000e+00 1.000e-01 2.000e-01 ... 8.189e+02 8.190e+02 8.191e+02] \n",
      "\t==> ctxt_x  <Pyfhel Ciphertext at 0x215a797e950, scheme=ckks, size=2/2, scale_bits=30, mod_level=0>\n",
      "->\tarr_y  [0.0000e+00 5.0000e-02 1.0000e-01 ... 4.0945e+02 4.0950e+02 4.0955e+02] \n",
      "\t==> ctxt_y  <Pyfhel Ciphertext at 0x215a79a3ae0, scheme=ckks, size=2/2, scale_bits=30, mod_level=0>\n"
     ]
    }
   ],
   "source": [
    "arr_x = np.arange(HE.n//2, dtype=np.float64)*0.1\n",
    "arr_y = np.arange(HE.n//2, dtype=np.float64)*0.05\n",
    "\n",
    "ptxt_x = HE.encodeFrac(arr_x)   # Creates a PyPtxt plaintext with the encoded arr_x\n",
    "ptxt_y = HE.encodeFrac(arr_y)   # plaintexts created from arrays shorter than 'n' are filled with zeros.\n",
    "\n",
    "#ctxt_x = HE.encryptPtxt(ptxt_x) # Encrypts the plaintext ptxt_x and returns a PyCtxt\n",
    "#ctxt_y = HE.encryptPtxt(ptxt_y) #  Alternatively you can use HE.encryptFrac(arr_y)\n",
    "\n",
    "ctxt_x = HE.encryptFrac(arr_x)\n",
    "ctxt_y = HE.encryptFrac(arr_y)\n",
    "\n",
    "print(\"Fixed-point Encoding & Encryption, \")\n",
    "print(\"->\\tarr_x \", arr_x,'\\n\\t==> ctxt_x ', ctxt_x)\n",
    "print(\"->\\tarr_y \", arr_y,'\\n\\t==> ctxt_y ', ctxt_y)"
   ]
  },
  {
   "cell_type": "markdown",
   "id": "7aea62a7",
   "metadata": {},
   "source": [
    "computation"
   ]
  },
  {
   "cell_type": "code",
   "execution_count": 24,
   "id": "47416238",
   "metadata": {},
   "outputs": [
    {
     "name": "stdout",
     "output_type": "stream",
     "text": [
      "Secure operations\n",
      " Ciphertext-ciphertext: \n",
      "->\tctxt_x + ctxt_y = ccSum:  <Pyfhel Ciphertext at 0x215ff476310, scheme=ckks, size=2/2, scale_bits=30, mod_level=0>\n",
      "->\tctxt_x - ctxt_y = ccSub:  <Pyfhel Ciphertext at 0x215ff45a810, scheme=ckks, size=2/2, scale_bits=30, mod_level=0>\n",
      "->\tctxt_x * ctxt_y = ccMul:  <Pyfhel Ciphertext at 0x215ff476810, scheme=ckks, size=3/3, scale_bits=60, mod_level=1>\n",
      " Single ciphertext: \n",
      "->\tctxt_x**2      = cSq  :  <Pyfhel Ciphertext at 0x215ff476950, scheme=ckks, size=3/3, scale_bits=60, mod_level=1>\n",
      "->\t- ctxt_x       = cNeg :  <Pyfhel Ciphertext at 0x215a79a39a0, scheme=ckks, size=2/2, scale_bits=30, mod_level=0>\n",
      "->\tctxt_x >> 4    = cRotR:  <Pyfhel Ciphertext at 0x215fefc3e00, scheme=ckks, size=2/2, scale_bits=30, mod_level=0>\n",
      "->\tctxt_x << 4    = cRotL:  <Pyfhel Ciphertext at 0x215a79a47c0, scheme=ckks, size=2/2, scale_bits=30, mod_level=0>\n",
      " Ciphertext-plaintext: \n",
      "->\tctxt_x + ptxt_y = cpSum:  <Pyfhel Ciphertext at 0x215a79a4b80, scheme=ckks, size=2/2, scale_bits=30, mod_level=0>\n",
      "->\tctxt_x - ptxt_y = cpSub:  <Pyfhel Ciphertext at 0x215fef8cb80, scheme=ckks, size=2/2, scale_bits=30, mod_level=0>\n",
      "->\tctxt_x * ptxt_y = cpMul:  <Pyfhel Ciphertext at 0x215ff451f40, scheme=ckks, size=2/2, scale_bits=60, mod_level=1>\n"
     ]
    }
   ],
   "source": [
    "# Ciphertext-ciphertext ops:\n",
    "ccSum = ctxt_x + ctxt_y       # Calls HE.add(ctxt_x, ctxt_y, in_new_ctxt=True)\n",
    "                            #  `ctxt_x += ctxt_y` for inplace operation\n",
    "ccSub = ctxt_x - ctxt_y       # Calls HE.sub(ctxt_x, ctxt_y, in_new_ctxt=True)\n",
    "                            #  `ctxt_x -= ctxt_y` for inplace operation\n",
    "ccMul = ctxt_x * ctxt_y       # Calls HE.multiply(ctxt_x, ctxt_y, in_new_ctxt=True)\n",
    "                            #  `ctxt_x *= ctxt_y` for inplace operation\n",
    "cSq   = ctxt_x**2            # Calls HE.square(ctxt_x, in_new_ctxt=True)\n",
    "                            #  `ctxt_x **= 2` for inplace operation\n",
    "cNeg  = -ctxt_x              # Calls HE.negate(ctxt_x, in_new_ctxt=True)\n",
    "                            #\n",
    "# cPow  = ctxt_x**3          # pow Not supported in CKKS\n",
    "cRotR = ctxt_x >> 2          # Calls HE.rotate(ctxt_x, k=2, in_new_ctxt=True)\n",
    "                            #  `ctxt_x >>= 2` for inplace operation\n",
    "cRotL = ctxt_x << 2          # Calls HE.rotate(ctxt_x, k=-2, in_new_ctxt=True)\n",
    "                            #  `ctxt_x <<= 2` for inplace operation\n",
    "\n",
    "# Ciphetext-plaintext ops\n",
    "cpSum = ctxt_x + ptxt_y       # Calls HE.add_plain(ctxt_x, ptxt_y, in_new_ctxt=True)\n",
    "                            # `ctxt_x += ctxt_y` for inplace operation\n",
    "cpSub = ctxt_x - ptxt_y       # Calls HE.sub_plain(ctxt_x, ptxt_y, in_new_ctxt=True)\n",
    "                            # `ctxt_x -= ctxt_y` for inplace operation\n",
    "cpMul = ctxt_x * ptxt_y       # Calls HE.multiply_plain(ctxt_x, ptxt_y, in_new_ctxt=True)\n",
    "                            # `ctxt_x *= ctxt_y` for inplace operation\n",
    "\n",
    "\n",
    "print(\"Secure operations\")\n",
    "print(\" Ciphertext-ciphertext: \")\n",
    "print(\"->\\tctxt_x + ctxt_y = ccSum: \", ccSum)\n",
    "print(\"->\\tctxt_x - ctxt_y = ccSub: \", ccSub)\n",
    "print(\"->\\tctxt_x * ctxt_y = ccMul: \", ccMul)\n",
    "print(\" Single ciphertext: \")\n",
    "print(\"->\\tctxt_x**2      = cSq  : \", cSq  )\n",
    "print(\"->\\t- ctxt_x       = cNeg : \", cNeg )\n",
    "print(\"->\\tctxt_x >> 4    = cRotR: \", cRotR)\n",
    "print(\"->\\tctxt_x << 4    = cRotL: \", cRotL)\n",
    "print(\" Ciphertext-plaintext: \")\n",
    "print(\"->\\tctxt_x + ptxt_y = cpSum: \", cpSum)\n",
    "print(\"->\\tctxt_x - ptxt_y = cpSub: \", cpSub)\n",
    "print(\"->\\tctxt_x * ptxt_y = cpMul: \", cpMul)"
   ]
  },
  {
   "cell_type": "markdown",
   "id": "6db95b2a",
   "metadata": {},
   "source": [
    "relinearize"
   ]
  },
  {
   "cell_type": "code",
   "execution_count": 20,
   "id": "13496d42",
   "metadata": {},
   "outputs": [
    {
     "name": "stdout",
     "output_type": "stream",
     "text": [
      "Relinearization-> Right after each multiplication.\n",
      "ccMul before relinearization (size 3): <Pyfhel Ciphertext at 0x215ff476950, scheme=ckks, size=3/3, scale_bits=60, mod_level=1>\n",
      "ccMul after relinearization (size 2): <Pyfhel Ciphertext at 0x215ff476950, scheme=ckks, size=2/3, scale_bits=60, mod_level=1>\n"
     ]
    }
   ],
   "source": [
    "print(\"Relinearization-> Right after each multiplication.\")\n",
    "print(f\"ccMul before relinearization (size {ccMul.size()}): {ccMul}\")\n",
    "HE.relinKeyGen()\n",
    "~ccMul    # Equivalent to HE.relinearize(ccMul). Relin always happens in-place.\n",
    "print(f\"ccMul after relinearization (size {ccMul.size()}): {ccMul}\")"
   ]
  },
  {
   "cell_type": "code",
   "execution_count": 21,
   "id": "d11f10fd",
   "metadata": {},
   "outputs": [
    {
     "name": "stdout",
     "output_type": "stream",
     "text": [
      "Securely multiplying 8 times!\n",
      "\tStep 1:  res [-0.     0.005  0.02   0.045]\n",
      "\tStep 2:  res [0.       0.00025  0.002    0.006751]\n",
      "\tStep 3:  res [0.000e+00 1.200e-05 2.000e-04 1.009e-03]\n",
      "\tStep 4:  res [ 0.001099  0.       -0.000427  0.000732]\n",
      "\tStep 5:  res [-0.234375  0.0625   -0.40625   0.21875 ]\n",
      "\tStep 6:  res [-148.    2.  -94.  -86.]\n",
      "\tStep 7:  res [-6.93320454e+19 -2.06794841e+19 -1.26459584e+19 -3.08052415e+19]\n",
      "\tStep 8:  res [ 5.84743869e+10 -5.73770284e+09  7.18475662e+08 -2.43026831e+10]\n",
      "If we multiply further we get: scale out of bounds\n"
     ]
    }
   ],
   "source": [
    "_r = lambda x: np.round(x, decimals=6)[:4]\n",
    "print(f\"Securely multiplying {n_mults} times!\")\n",
    "for step in range(1,n_mults+1):\n",
    "    ctxt_x *= ctxt_y    # Multiply in-place --> implicit align_mod_n_scale()\n",
    "    ctxt_x = ~(ctxt_x)  # Always relinearize after each multiplication!\n",
    "    print(f\"\\tStep {step}:  res {_r(HE.decryptFrac(ctxt_x))}\")\n",
    "try:\n",
    "    ctxt_x *= ctxt_y\n",
    "except ValueError as e:\n",
    "    assert str(e)=='scale out of bounds'\n",
    "    print(f\"If we multiply further we get: {str(e)}\")"
   ]
  },
  {
   "cell_type": "markdown",
   "id": "320c0644",
   "metadata": {},
   "source": [
    " Rescaling & Mod Switching"
   ]
  },
  {
   "cell_type": "code",
   "execution_count": 25,
   "id": "8dcb761f",
   "metadata": {},
   "outputs": [
    {
     "name": "stdout",
     "output_type": "stream",
     "text": [
      "\n",
      "5. Rescaling & Mod Switching.\n",
      "->\tMean:  <Pyfhel Ciphertext at 0x215daaa6590, scheme=ckks, size=2/2, scale_bits=60, mod_level=1>\n",
      "->\tMSE_1:  <Pyfhel Ciphertext at 0x215daaa6630, scheme=ckks, size=2/3, scale_bits=60, mod_level=2>\n",
      "->\tMSE_2:  <Pyfhel Ciphertext at 0x215daa961d0, scheme=ckks, size=2/3, scale_bits=60, mod_level=2>\n",
      "->\tMSE:  <Pyfhel Ciphertext at 0x215a79a44a0, scheme=ckks, size=2/2, scale_bits=60, mod_level=3>\n"
     ]
    }
   ],
   "source": [
    "#  1. Mean\n",
    "c_mean = (ctxt_x + ctxt_y) / 2\n",
    "#  2. MSE\n",
    "c_mse_1 = ~((ctxt_x - c_mean)**2)\n",
    "c_mse_2 = (~(ctxt_y - c_mean)**2)\n",
    "c_mse = (c_mse_1 + c_mse_2)/ 3\n",
    "#  3. Cumulative sum\n",
    "c_mse += (c_mse << 1)\n",
    "c_mse += (c_mse << 2)  # element 0 contains the result\n",
    "print(\"\\n5. Rescaling & Mod Switching.\")\n",
    "print(\"->\\tMean: \", c_mean)\n",
    "print(\"->\\tMSE_1: \", c_mse_1)\n",
    "print(\"->\\tMSE_2: \", c_mse_2)\n",
    "print(\"->\\tMSE: \", c_mse)"
   ]
  },
  {
   "cell_type": "markdown",
   "id": "03c0353f",
   "metadata": {},
   "source": [
    "Decrypt & Decode"
   ]
  },
  {
   "cell_type": "code",
   "execution_count": 26,
   "id": "18af33ed",
   "metadata": {},
   "outputs": [
    {
     "name": "stdout",
     "output_type": "stream",
     "text": [
      "6. Decrypting results\n",
      " Original ciphertexts: \n",
      "   ->\tctxt_x --(decr)-->  [0.000e+00 1.000e-01 2.000e-01 ... 8.189e+02 8.190e+02 8.191e+02]\n",
      "   ->\tctxt_y --(decr)-->  [-0.0000e+00  5.0000e-02  1.0000e-01 ...  4.0945e+02  4.0950e+02\n",
      "  4.0955e+02]\n",
      " Ciphertext-ciphertext Ops: \n",
      "   ->\tctxt_x + ctxt_y = ccSum --(decr)-->  [0.00000e+00 1.50000e-01 3.00000e-01 ... 1.22835e+03 1.22850e+03\n",
      " 1.22865e+03]\n",
      "   ->\tctxt_x - ctxt_y = ccSub --(decr)-->  [0.0000e+00 5.0000e-02 1.0000e-01 ... 4.0945e+02 4.0950e+02 4.0955e+02]\n",
      "   ->\tctxt_x * ctxt_y = ccMul --(decr)-->  [0.00000000e+00 5.00000000e-03 2.00000000e-02 ... 3.35298605e+05\n",
      " 3.35380500e+05 3.35462403e+05]\n",
      " Single ciphertext: \n",
      "   ->\tctxt_x**2      = cSq   --(decr)-->  [0.00000000e+00 1.00000000e-02 4.00000000e-02 ... 6.70597210e+05\n",
      " 6.70760993e+05 6.70924809e+05]\n",
      "   ->\t- ctxt_x       = cNeg  --(decr)-->  [-0.000e+00 -1.000e-01 -2.000e-01 ... -8.189e+02 -8.190e+02 -8.191e+02]\n",
      "   ->\tctxt_x >> 4    = cRotR --(decr)-->  [819.  819.1  -0.  ... 818.7 818.8 818.9]\n",
      "   ->\tctxt_x << 4    = cRotL --(decr)-->  [1.980e-01 2.990e-01 4.000e-01 ... 8.191e+02 0.000e+00 1.000e-01]\n",
      " Ciphertext-plaintext ops: \n",
      "   ->\tctxt_x + ptxt_y = cpSum --(decr)-->  [0.00000e+00 1.50000e-01 3.00000e-01 ... 1.22835e+03 1.22850e+03\n",
      " 1.22865e+03]\n",
      "   ->\tctxt_x - ptxt_y = cpSub --(decr)-->  [0.0000e+00 5.0000e-02 1.0000e-01 ... 4.0945e+02 4.0950e+02 4.0955e+02]\n",
      "   ->\tctxt_x * ptxt_y = cpMul --(decr)-->  [-0.00000000e+00  5.00000000e-03  2.00000000e-02 ...  3.35298605e+05\n",
      "  3.35380498e+05  3.35462405e+05]\n",
      " Mean Squared error: \n",
      "   ->\tmean(ctxt_x, ctxt_y) = c_mean --(decr)-->  [ 0.  0. -0. ...  0.  0.  0.]\n",
      "   ->\tmse(ctxt_x, ctxt_y)  = c_mse  --(decr)-->  [-0.    -0.    -0.    ... -0.063 -0.04  -0.048]\n"
     ]
    }
   ],
   "source": [
    "r_x    = HE.decryptFrac(ctxt_x)\n",
    "r_y    = HE.decryptFrac(ctxt_y)\n",
    "rccSum = HE.decryptFrac(ccSum)\n",
    "rccSub = HE.decryptFrac(ccSub)\n",
    "rccMul = HE.decryptFrac(ccMul)\n",
    "rcSq   = HE.decryptFrac(cSq  )\n",
    "rcNeg  = HE.decryptFrac(cNeg )\n",
    "rcRotR = HE.decryptFrac(cRotR)\n",
    "rcRotL = HE.decryptFrac(cRotL)\n",
    "rcpSum = HE.decryptFrac(cpSum)\n",
    "rcpSub = HE.decryptFrac(cpSub)\n",
    "rcpMul = HE.decryptFrac(cpMul)\n",
    "rmean  = HE.decryptFrac(c_mean)\n",
    "rmse   = HE.decryptFrac(c_mse)\n",
    "\n",
    "# Note: results are approximate! if you increase the decimals, you will notice\n",
    "#  the errors\n",
    "_r = lambda x: np.round(x, decimals=3)\n",
    "print(\"6. Decrypting results\")\n",
    "print(\" Original ciphertexts: \")\n",
    "print(\"   ->\\tctxt_x --(decr)--> \", _r(r_x))\n",
    "print(\"   ->\\tctxt_y --(decr)--> \", _r(r_y))\n",
    "print(\" Ciphertext-ciphertext Ops: \")\n",
    "print(\"   ->\\tctxt_x + ctxt_y = ccSum --(decr)--> \", _r(rccSum))\n",
    "print(\"   ->\\tctxt_x - ctxt_y = ccSub --(decr)--> \", _r(rccSub))\n",
    "print(\"   ->\\tctxt_x * ctxt_y = ccMul --(decr)--> \", _r(rccMul))\n",
    "print(\" Single ciphertext: \")\n",
    "print(\"   ->\\tctxt_x**2      = cSq   --(decr)--> \", _r(rcSq  ))\n",
    "print(\"   ->\\t- ctxt_x       = cNeg  --(decr)--> \", _r(rcNeg ))\n",
    "print(\"   ->\\tctxt_x >> 4    = cRotR --(decr)--> \", _r(rcRotR))\n",
    "print(\"   ->\\tctxt_x << 4    = cRotL --(decr)--> \", _r(rcRotL))\n",
    "print(\" Ciphertext-plaintext ops: \")\n",
    "print(\"   ->\\tctxt_x + ptxt_y = cpSum --(decr)--> \", _r(rcpSum))\n",
    "print(\"   ->\\tctxt_x - ptxt_y = cpSub --(decr)--> \", _r(rcpSub))\n",
    "print(\"   ->\\tctxt_x * ptxt_y = cpMul --(decr)--> \", _r(rcpMul))\n",
    "print(\" Mean Squared error: \")\n",
    "print(\"   ->\\tmean(ctxt_x, ctxt_y) = c_mean --(decr)--> \", _r(rmean))\n",
    "print(\"   ->\\tmse(ctxt_x, ctxt_y)  = c_mse  --(decr)--> \", _r(rmse))"
   ]
  },
  {
   "cell_type": "markdown",
   "id": "be4fe00f",
   "metadata": {},
   "source": [
    "Profiling"
   ]
  },
  {
   "cell_type": "code",
   "execution_count": 29,
   "id": "b22412d3",
   "metadata": {},
   "outputs": [
    {
     "name": "stdout",
     "output_type": "stream",
     "text": [
      "3.64 µs ± 59.5 ns per loop (mean ± std. dev. of 7 runs, 100000 loops each)\n",
      "3.72 µs ± 44.3 ns per loop (mean ± std. dev. of 7 runs, 100000 loops each)\n",
      "3.24 µs ± 37.4 ns per loop (mean ± std. dev. of 7 runs, 100000 loops each)\n",
      "2.67 µs ± 70.1 ns per loop (mean ± std. dev. of 7 runs, 100000 loops each)\n"
     ]
    }
   ],
   "source": [
    "%timeit t = arr_x + arr_y\n",
    "%timeit t = arr_x * arr_y\n",
    "%timeit t = arr_x**2\n",
    "%timeit t = -arr_x"
   ]
  },
  {
   "cell_type": "code",
   "execution_count": 27,
   "id": "174ff170",
   "metadata": {},
   "outputs": [
    {
     "name": "stdout",
     "output_type": "stream",
     "text": [
      "623 µs ± 20.5 µs per loop (mean ± std. dev. of 7 runs, 1000 loops each)\n",
      "626 µs ± 5.14 µs per loop (mean ± std. dev. of 7 runs, 1000 loops each)\n",
      "2.54 ms ± 19.8 µs per loop (mean ± std. dev. of 7 runs, 100 loops each)\n",
      "2.09 ms ± 18.1 µs per loop (mean ± std. dev. of 7 runs, 100 loops each)\n",
      "460 µs ± 13.6 µs per loop (mean ± std. dev. of 7 runs, 1000 loops each)\n",
      "29.8 ms ± 180 µs per loop (mean ± std. dev. of 7 runs, 10 loops each)\n",
      "29.9 ms ± 197 µs per loop (mean ± std. dev. of 7 runs, 10 loops each)\n"
     ]
    }
   ],
   "source": [
    "# Ciphertext-ciphertext ops:\n",
    "%timeit ccSum = ctxt_x + ctxt_y\n",
    "%timeit ccSub = ctxt_x - ctxt_y\n",
    "\n",
    "%timeit ccMul = ctxt_x * ctxt_y\n",
    "%timeit cSq   = ctxt_x**2\n",
    "\n",
    "%timeit cNeg  = -ctxt_x\n",
    "\n",
    "# cPow  = ctxt_x**3          # pow Not supported in CKKS\n",
    "%timeit cRotR = ctxt_x >> 2\n",
    "%timeit cRotL = ctxt_x << 2"
   ]
  },
  {
   "cell_type": "code",
   "execution_count": 28,
   "id": "aae58a64",
   "metadata": {},
   "outputs": [
    {
     "name": "stdout",
     "output_type": "stream",
     "text": [
      "368 µs ± 16.1 µs per loop (mean ± std. dev. of 7 runs, 1000 loops each)\n",
      "386 µs ± 21.5 µs per loop (mean ± std. dev. of 7 runs, 1000 loops each)\n",
      "1.14 ms ± 15.6 µs per loop (mean ± std. dev. of 7 runs, 1000 loops each)\n"
     ]
    }
   ],
   "source": [
    "# Ciphetext-plaintext ops\n",
    "%timeit cpSum = ctxt_x + ptxt_y\n",
    "%timeit cpSub = ctxt_x - ptxt_y\n",
    "%timeit cpMul = ctxt_x * ptxt_y"
   ]
  },
  {
   "cell_type": "code",
   "execution_count": 30,
   "id": "6860c66d",
   "metadata": {},
   "outputs": [
    {
     "name": "stdout",
     "output_type": "stream",
     "text": [
      "32 ms ± 784 µs per loop (mean ± std. dev. of 7 runs, 10 loops each)\n"
     ]
    }
   ],
   "source": [
    "%timeit ccMul = ctxt_x * ctxt_y; ~ccMul;"
   ]
  }
 ],
 "metadata": {
  "kernelspec": {
   "display_name": "Python 3 (ipykernel)",
   "language": "python",
   "name": "python3"
  },
  "language_info": {
   "codemirror_mode": {
    "name": "ipython",
    "version": 3
   },
   "file_extension": ".py",
   "mimetype": "text/x-python",
   "name": "python",
   "nbconvert_exporter": "python",
   "pygments_lexer": "ipython3",
   "version": "3.9.12"
  }
 },
 "nbformat": 4,
 "nbformat_minor": 5
}
